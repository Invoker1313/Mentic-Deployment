{
 "cells": [
  {
   "cell_type": "code",
   "execution_count": 7,
   "metadata": {},
   "outputs": [],
   "source": [
    "import spacy\n",
    "nlp = spacy.load('en_core_web_md')"
   ]
  },
  {
   "cell_type": "code",
   "execution_count": 29,
   "metadata": {},
   "outputs": [],
   "source": [
    "def dependency_parsing(user_speech):\n",
    "    nlp = spacy.load('en_core_web_md')\n",
    "    doc = nlp(user_speech)\n",
    "\n",
    "    subject = None\n",
    "\n",
    "    for token in doc:\n",
    "        if token.dep_ == \"nsubj\":\n",
    "            for pointer in self_subject_check:\n",
    "                if token == pointer:\n",
    "                    return True\n",
    "                \n",
    "    else:\n",
    "        return False\n",
    "\n",
    "self_subject_check = [\n",
    "    \"I\", \"me\", \"mine\", \"myself\"\n",
    "]"
   ]
  },
  {
   "cell_type": "code",
   "execution_count": 9,
   "metadata": {},
   "outputs": [],
   "source": [
    "def negation_check(word):\n",
    "    for check in negation_handler:\n",
    "        if check in word:\n",
    "            return True\n",
    "\n"
   ]
  },
  {
   "cell_type": "code",
   "execution_count": 10,
   "metadata": {},
   "outputs": [],
   "source": [
    "def lemmatizer(user_speech):\n",
    "    doc = nlp(user_speech)\n",
    "    for token in doc:\n",
    "        lemma_doc = ' ' + token.lemma_\n",
    "    return lemma_doc"
   ]
  },
  {
   "cell_type": "code",
   "execution_count": 11,
   "metadata": {},
   "outputs": [],
   "source": [
    "def depressedmood_check(user_speech):\n",
    "    global depressed_mood_counter\n",
    "    for token in depressed_mood:\n",
    "        if token in user_speech:\n",
    "            if dependency_parsing(user_speech) == True:\n",
    "                depressed_mood_counter = depressed_mood_counter + 1\n",
    "        return depressed_mood_counter"
   ]
  },
  {
   "cell_type": "code",
   "execution_count": 12,
   "metadata": {},
   "outputs": [],
   "source": [
    "def anhedonia(user_speech):\n",
    "    global anhedonia_counter\n",
    "    for token in loss_of_interest_pleasure_anhedonia:\n",
    "        if token in user_speech:\n",
    "            if dependency_parsing(user_speech) == True:\n",
    "                anhedonia_counter = anhedonia_counter + 1\n",
    "        return anhedonia_counter"
   ]
  },
  {
   "cell_type": "code",
   "execution_count": 13,
   "metadata": {},
   "outputs": [],
   "source": [
    "def negative_self_view_check(user_speech):\n",
    "    for token in negative_self_view:\n",
    "        if token in user_speech:\n",
    "            negative_counter = negative_counter + 1\n",
    "            return negative_counter"
   ]
  },
  {
   "cell_type": "code",
   "execution_count": 14,
   "metadata": {},
   "outputs": [],
   "source": [
    "def emotional_expression_check(user_speech):\n",
    "    for token in emotional_expressions_check:\n",
    "        if token in user_speech:\n",
    "            emotion_counter = emotion_counter + 1\n",
    "            return emotion_counter"
   ]
  },
  {
   "cell_type": "code",
   "execution_count": 15,
   "metadata": {},
   "outputs": [],
   "source": [
    "def fatigue_chceck(user_speech):\n",
    "    for token in physical_mental_fatigue:\n",
    "        if token in user_speech:\n",
    "            if dependency_parsing(user_speech) == True:\n",
    "                fatigue_counter = fatigue_counter + 1\n",
    "            return fatigue_counter"
   ]
  },
  {
   "cell_type": "code",
   "execution_count": 16,
   "metadata": {},
   "outputs": [],
   "source": [
    "def guilt_check(user_speech):\n",
    "    for token in worthlessness_hopelessness:\n",
    "        if token in user_speech:\n",
    "            if dependency_parsing(user_speech) == True:\n",
    "                guilt_counter = guilt_counter + 1\n",
    "            return guilt_counter"
   ]
  },
  {
   "cell_type": "code",
   "execution_count": 17,
   "metadata": {},
   "outputs": [],
   "source": [
    "def cognitive_check(user_speech):\n",
    "    for token in cognitive_distortions:\n",
    "        if token in user_speech:\n",
    "            if dependency_parsing(user_speech) == True:\n",
    "                cognitive_counter = cognitive_counter + 1\n",
    "            return cognitive_counter"
   ]
  },
  {
   "cell_type": "code",
   "execution_count": 18,
   "metadata": {},
   "outputs": [],
   "source": [
    "def suicidal_check(user_speech):\n",
    "    for token in suicidal_thoughts:\n",
    "        if token in user_speech:\n",
    "            if dependency_parsing(user_speech) == True:\n",
    "                suicidal_counter = suicidal_counter + 1\n",
    "            return suicidal_counter"
   ]
  },
  {
   "cell_type": "code",
   "execution_count": 32,
   "metadata": {},
   "outputs": [],
   "source": [
    "depressed_mood = [\n",
    "    \"sad\", \"unhappiness\", \"sorrow\", \"down\", \"gloom\", \"despair\", \"sorrowful\", \n",
    "    \"hopeless\", \"miserable\", \"lonely\", \"isolated\", \"alone\", \"empty\", \"abandoned\", \n",
    "    \"distant\", \"worthless\", \"inadequate\", \"useless\", \"failure\", \"incompetent\", \"meaningless\"\n",
    "]\n",
    "\n",
    "user_text = \" I am feeling sad and down\"\n",
    "\n",
    "def depressedmood_check(user_speech):\n",
    "    #global depressed_mood_counter\n",
    "    depressed_mood_counter = 0\n",
    "    for token in depressed_mood:\n",
    "        if token in user_speech:\n",
    "            #if dependency_parsing(user_speech) == True:\n",
    "                depressed_mood_counter += 1\n",
    "    return depressed_mood_counter\n",
    "\n",
    "count = depressedmood_check(user_text)\n"
   ]
  },
  {
   "cell_type": "code",
   "execution_count": 33,
   "metadata": {},
   "outputs": [
    {
     "name": "stdout",
     "output_type": "stream",
     "text": [
      "2\n"
     ]
    }
   ],
   "source": [
    "print(count)"
   ]
  },
  {
   "cell_type": "code",
   "execution_count": null,
   "metadata": {},
   "outputs": [],
   "source": []
  }
 ],
 "metadata": {
  "kernelspec": {
   "display_name": "Python 3",
   "language": "python",
   "name": "python3"
  },
  "language_info": {
   "codemirror_mode": {
    "name": "ipython",
    "version": 3
   },
   "file_extension": ".py",
   "mimetype": "text/x-python",
   "name": "python",
   "nbconvert_exporter": "python",
   "pygments_lexer": "ipython3",
   "version": "3.10.1"
  }
 },
 "nbformat": 4,
 "nbformat_minor": 2
}
